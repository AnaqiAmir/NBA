{
 "cells": [
  {
   "cell_type": "code",
   "execution_count": 18,
   "id": "d69014c0-9266-4c89-867b-29eefec97a98",
   "metadata": {},
   "outputs": [],
   "source": [
    "import os\n",
    "\n",
    "SEASONS = [2024] #list(range(2015,2025))\n",
    "\n",
    "DATA_DIR = \"data\"\n",
    "STANDINGS_DIR = os.path.join(DATA_DIR, \"standings\")\n",
    "SCORES_DIR = os.path.join(DATA_DIR, \"scores\")"
   ]
  },
  {
   "cell_type": "code",
   "execution_count": 19,
   "id": "ded5e28c-c7df-418e-8b15-a169a2f02111",
   "metadata": {},
   "outputs": [],
   "source": [
    "from bs4 import BeautifulSoup\n",
    "from playwright.async_api import async_playwright, TimeoutError as PlaywrightTimeout\n",
    "import time\n",
    "# Make sure to install playwright browsers by running playwright install on the command line or !playwright install from Jupyter"
   ]
  },
  {
   "cell_type": "code",
   "execution_count": 20,
   "id": "fb125fef-268f-4d50-a3db-ed798fe90369",
   "metadata": {},
   "outputs": [],
   "source": [
    "# Get html of each game\n",
    "async def get_html(url, selector, sleep=10, retries=5):\n",
    "    html = None\n",
    "    for i in range(1, retries+1):\n",
    "        time.sleep(sleep * i) # set sleep amount to reduce timeout occurences\n",
    "        try:\n",
    "            async with async_playwright() as p:\n",
    "                browser = await p.chromium.launch()\n",
    "                page = await browser.new_page()\n",
    "                await page.goto(url)\n",
    "                print(await page.title())\n",
    "                html = await page.inner_html(selector)\n",
    "        except PlaywrightTimeout:\n",
    "            print(f\"Timeout error on {url}\")\n",
    "            continue\n",
    "        else:\n",
    "            break\n",
    "    return html"
   ]
  },
  {
   "cell_type": "code",
   "execution_count": 21,
   "id": "5b810f31-5713-4d60-94b5-be2fbd0e0338",
   "metadata": {},
   "outputs": [],
   "source": [
    "# Scraping games in a season\n",
    "async def scrape_season(season):\n",
    "    url = f\"https://www.basketball-reference.com/leagues/NBA_{season}_games.html\"\n",
    "    html = await get_html(url, \"#content .filter\")\n",
    "\n",
    "    soup = BeautifulSoup(html)\n",
    "    links = soup.find_all(\"a\")\n",
    "    standings_pages = [f\"https://www.basketball-reference.com{l['href']}\" for l in links]\n",
    "\n",
    "    # Go through each url in each standing (season)\n",
    "    for url in standings_pages:\n",
    "        save_path = os.path.join(STANDINGS_DIR, url.split(\"/\")[-1])\n",
    "        if os.path.exists(save_path):\n",
    "            continue\n",
    "\n",
    "        html = await get_html(url, \"#all_schedule\")\n",
    "        with open(save_path, \"w+\") as f:\n",
    "            f.write(html)"
   ]
  },
  {
   "cell_type": "code",
   "execution_count": 22,
   "id": "fc42da87-4b10-4331-9fa0-aa2c29827289",
   "metadata": {},
   "outputs": [
    {
     "name": "stdout",
     "output_type": "stream",
     "text": [
      "Timeout error on https://www.basketball-reference.com/leagues/NBA_2024_games.html\n",
      "Timeout error on https://www.basketball-reference.com/leagues/NBA_2024_games.html\n",
      "Timeout error on https://www.basketball-reference.com/leagues/NBA_2024_games.html\n",
      "2023-24 NBA Schedule | Basketball-Reference.com\n",
      "Timeout error on https://www.basketball-reference.com/leagues/NBA_2024_games-february.html\n",
      "2023-24 NBA Schedule | Basketball-Reference.com\n"
     ]
    }
   ],
   "source": [
    "# Scraping seasons\n",
    "for season in SEASONS:\n",
    "    await scrape_season(season)"
   ]
  },
  {
   "cell_type": "code",
   "execution_count": 8,
   "id": "3baa481a-38fa-4045-a679-b02b1d92ef0a",
   "metadata": {},
   "outputs": [],
   "source": [
    "# Getting the files by months\n",
    "standings_files = os.listdir(STANDINGS_DIR)"
   ]
  },
  {
   "cell_type": "code",
   "execution_count": 9,
   "id": "8948c800-acbe-43c8-b213-f348eb11d4c7",
   "metadata": {},
   "outputs": [],
   "source": [
    "# Getting game statistics from each game\n",
    "async def scrape_game(standings_file):\n",
    "    with open(standings_file, 'r') as f:\n",
    "        html = f.read()\n",
    "\n",
    "    soup = BeautifulSoup(html)\n",
    "    links = soup.find_all(\"a\")\n",
    "    hrefs = [l.get('href') for l in links]\n",
    "    box_scores = [f\"https://www.basketball-reference.com{l}\" for l in hrefs if l and \"boxscore\" in l and '.html' in l]\n",
    "\n",
    "    for url in box_scores:\n",
    "        save_path = os.path.join(SCORES_DIR, url.split(\"/\")[-1])\n",
    "        if os.path.exists(save_path):\n",
    "            continue\n",
    "\n",
    "        html = await get_html(url, \"#content\")\n",
    "        if not html:\n",
    "            continue\n",
    "        with open(save_path, \"w+\") as f:\n",
    "            f.write(html)"
   ]
  },
  {
   "cell_type": "code",
   "execution_count": 23,
   "id": "c6c23fb4-88af-4d34-87fd-8753e43fb4fe",
   "metadata": {},
   "outputs": [
    {
     "name": "stdout",
     "output_type": "stream",
     "text": [
      "Clippers vs Pistons, February 2, 2024 | Basketball-Reference.com\n",
      "Heat vs Wizards, February 2, 2024 | Basketball-Reference.com\n",
      "Timeout error on https://www.basketball-reference.com/boxscores/202402020ATL.html\n",
      "Suns vs Hawks, February 2, 2024 | Basketball-Reference.com\n",
      "Timeout error on https://www.basketball-reference.com/boxscores/202402020IND.html\n",
      "Timeout error on https://www.basketball-reference.com/boxscores/202402020IND.html\n",
      "Kings vs Pacers, February 2, 2024 | Basketball-Reference.com\n",
      "Raptors vs Rockets, February 2, 2024 | Basketball-Reference.com\n",
      "Warriors vs Grizzlies, February 2, 2024 | Basketball-Reference.com\n",
      "Magic vs Timberwolves, February 2, 2024 | Basketball-Reference.com\n",
      "Hornets vs Thunder, February 2, 2024 | Basketball-Reference.com\n",
      "Pelicans vs Spurs, February 2, 2024 | Basketball-Reference.com\n",
      "Trail Blazers vs Nuggets, February 2, 2024 | Basketball-Reference.com\n",
      "Nets vs 76ers, February 3, 2024 | Basketball-Reference.com\n",
      "Warriors vs Hawks, February 3, 2024 | Basketball-Reference.com\n",
      "Timeout error on https://www.basketball-reference.com/boxscores/202402030CHI.html\n",
      "Kings vs Bulls, February 3, 2024 | Basketball-Reference.com\n",
      "Bucks vs Mavericks, February 3, 2024 | Basketball-Reference.com\n",
      "Lakers vs Knicks, February 3, 2024 | Basketball-Reference.com\n",
      "Cavaliers vs Spurs, February 3, 2024 | Basketball-Reference.com\n"
     ]
    }
   ],
   "source": [
    "import pandas as pd\n",
    "\n",
    "for season in SEASONS:\n",
    "    files = [s for s in standings_files if str(season) in s]\n",
    "\n",
    "    for f in files:\n",
    "        filepath = os.path.join(STANDINGS_DIR, f)\n",
    "\n",
    "        await scrape_game(filepath) # scraping data from individual games"
   ]
  }
 ],
 "metadata": {
  "kernelspec": {
   "display_name": "Python 3 (ipykernel)",
   "language": "python",
   "name": "python3"
  },
  "language_info": {
   "codemirror_mode": {
    "name": "ipython",
    "version": 3
   },
   "file_extension": ".py",
   "mimetype": "text/x-python",
   "name": "python",
   "nbconvert_exporter": "python",
   "pygments_lexer": "ipython3",
   "version": "3.9.12"
  }
 },
 "nbformat": 4,
 "nbformat_minor": 5
}
