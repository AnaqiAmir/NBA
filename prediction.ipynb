{
 "cells": [
  {
   "cell_type": "markdown",
   "metadata": {},
   "source": [
    "# NBA Games Prediction\n",
    "## Imports and Load Data"
   ]
  },
  {
   "cell_type": "code",
   "execution_count": null,
   "metadata": {},
   "outputs": [],
   "source": [
    "import pandas as pd\n",
    "import numpy as np\n",
    "import seaborn as sns\n",
    "import matplotlib.pyplot as plt\n",
    "%matplotlib inline\n",
    "\n",
    "from itertools import chain # to unlist nested lists\n",
    "\n",
    "from sklearn.linear_model import LogisticRegression\n",
    "from sklearn.naive_bayes import GaussianNB\n",
    "from sklearn.tree import DecisionTreeClassifier\n",
    "from sklearn.svm import SVC\n",
    "from sklearn.metrics import confusion_matrix, classification_report, accuracy_score\n",
    "\n",
    "import warnings\n",
    "warnings.filterwarnings('ignore')"
   ]
  },
  {
   "cell_type": "code",
   "execution_count": null,
   "metadata": {},
   "outputs": [],
   "source": [
    "games = pd.read_csv(\"nba_games_2024.csv\")\n",
    "games.replace([np.inf, -np.inf], np.nan,inplace=True)\n",
    "games.head()"
   ]
  },
  {
   "cell_type": "markdown",
   "metadata": {},
   "source": [
    "## Exploratory Data Analysis"
   ]
  },
  {
   "cell_type": "code",
   "execution_count": null,
   "metadata": {},
   "outputs": [],
   "source": [
    "# Shape of dataframe\n",
    "games.shape"
   ]
  },
  {
   "cell_type": "code",
   "execution_count": null,
   "metadata": {},
   "outputs": [],
   "source": [
    "# Distribution of total points for home team\n",
    "sns.histplot(data=games, x='home_total')"
   ]
  },
  {
   "cell_type": "code",
   "execution_count": null,
   "metadata": {},
   "outputs": [],
   "source": [
    "# Scatterplot of home and away points\n",
    "sns.regplot(data=games, x='home_total',y='away_total')"
   ]
  },
  {
   "cell_type": "code",
   "execution_count": null,
   "metadata": {},
   "outputs": [],
   "source": [
    "# Checking the distribution of basis games statistics\n",
    "basic_stats = ['home_fg%','home_3p%','home_ft%','home_trb','home_ast','home_stl','home_blk','home_tov']\n",
    "\n",
    "plt.figure(figsize=(15,10))\n",
    "for index,column in enumerate(basic_stats):\n",
    "    plt.subplot(2,4,index+1)\n",
    "    sns.histplot(data=games, x=column)\n",
    "    plt.title(f\"{column} Distribution\",fontweight=\"black\",size=20,pad=10)\n",
    "    plt.tight_layout()\n"
   ]
  },
  {
   "cell_type": "markdown",
   "metadata": {},
   "source": [
    "## EDA by Teams"
   ]
  },
  {
   "cell_type": "code",
   "execution_count": null,
   "metadata": {},
   "outputs": [],
   "source": [
    "# Checking stats by team\n",
    "stats_by_team = games.groupby('home_team')[basic_stats].mean().reset_index()\n",
    "stats_by_team['home_won'] = games[games['home_won']==True].groupby('home_team')['home_won'].count().reset_index()['home_won']\n",
    "for col in stats_by_team.columns:\n",
    "    replacement = col.replace('home_','')\n",
    "    stats_by_team.rename(columns={col: replacement},inplace=True)\n",
    "stats_by_team"
   ]
  },
  {
   "cell_type": "code",
   "execution_count": null,
   "metadata": {},
   "outputs": [],
   "source": [
    "plt.figure(figsize=(25,20))\n",
    "for index,column in enumerate(stats_by_team):\n",
    "    if(index!=0): # index!=0 is not plotting the team stat\n",
    "        plt.subplot(5,2,index)\n",
    "        sns.barplot(stats_by_team,\n",
    "                    x='team',\n",
    "                    y=column,\n",
    "                    order=stats_by_team.sort_values(column).team,\n",
    "                    palette='crest')\n",
    "        plt.title(f\"{column}\",fontweight=\"black\",size=20,pad=10)\n",
    "        plt.tight_layout()"
   ]
  },
  {
   "cell_type": "code",
   "execution_count": null,
   "metadata": {},
   "outputs": [],
   "source": [
    "################################################################################\n",
    "### Creating dataframe that displays the top n teams in each basic statistic ###\n",
    "################################################################################\n",
    "\n",
    "# Setting top n teams\n",
    "n = 5\n",
    "\n",
    "# Initializing lists\n",
    "stat_index = []\n",
    "team_index = []\n",
    "values = []\n",
    "\n",
    "# Appending lists\n",
    "for col in stats_by_team.columns[1:]:\n",
    "    stat_index.append([col]*n)\n",
    "    team_index.append(list(stats_by_team.nlargest(n,'3p%')['team']))\n",
    "    values.append(list(stats_by_team.nlargest(n,'3p%')['3p%']))\n",
    "\n",
    "# Unlisting nested lists\n",
    "stat_index = list(chain.from_iterable(stat_index))\n",
    "team_index = list(chain.from_iterable(team_index))\n",
    "values = list(chain.from_iterable(values))\n",
    "\n",
    "# Creating dataframe\n",
    "top_teams = pd.DataFrame([stat_index,team_index,values]).T\n",
    "top_teams.columns = ['Stat','Team','Average']\n",
    "top_teams.set_index(['Stat','Team'],inplace=True)\n",
    "top_teams"
   ]
  },
  {
   "cell_type": "code",
   "execution_count": null,
   "metadata": {},
   "outputs": [],
   "source": [
    "########################################################\n",
    "### Custom Ranking of Teams based on all basic stats ###\n",
    "########################################################\n",
    "\n",
    "stats_by_team['overall'] = stats_by_team[['fg%','3p%','ft%','trb','ast','stl','blk','won']].sum(axis=1) - stats_by_team['tov']\n",
    "team_overall = stats_by_team[['team','overall']].sort_values(by='overall',ascending=False).reset_index(drop=True)\n",
    "team_overall.index += 1\n",
    "team_overall"
   ]
  },
  {
   "cell_type": "markdown",
   "metadata": {},
   "source": [
    "## Data Processing"
   ]
  },
  {
   "cell_type": "code",
   "execution_count": 9,
   "metadata": {},
   "outputs": [],
   "source": [
    "# Creating a ranking_difference column between the home team against the away team\n",
    "def overall_difference(df):\n",
    "    overall = []\n",
    "    home_overall = float(team_overall[team_overall['team']==df.home_team]['overall'])\n",
    "    away_overall = float(team_overall[team_overall['team']==df.away_team]['overall'])\n",
    "    overall.append(home_overall-away_overall)\n",
    "    return overall\n",
    "\n",
    "games['ranking_difference'] = games.apply(overall_difference,axis=1)\n",
    "games = games.explode('ranking_difference')"
   ]
  },
  {
   "cell_type": "code",
   "execution_count": 22,
   "metadata": {},
   "outputs": [],
   "source": [
    "# Creating a home_last_10_wins and away_last_10_wins columns\n",
    "def add_last_10_wins(group):\n",
    "    group[\"home_last_10_wins\"] = group[\"home_won\"].shift(1) + group[\"home_won\"].shift(2) +\\\n",
    "                                 group[\"home_won\"].shift(3) + group[\"home_won\"].shift(4) +\\\n",
    "                                 group[\"home_won\"].shift(5) + group[\"home_won\"].shift(6) +\\\n",
    "                                 group[\"home_won\"].shift(7) + group[\"home_won\"].shift(8) +\\\n",
    "                                 group[\"home_won\"].shift(9) + group[\"home_won\"].shift(10)\n",
    "    return group\n",
    "\n",
    "games = games.groupby(\"home_team\", group_keys=False).apply(add_last_10_wins)"
   ]
  },
  {
   "cell_type": "code",
   "execution_count": 10,
   "metadata": {},
   "outputs": [],
   "source": [
    "# Add target variable which is the result of the next game for the home team\n",
    "def add_target(group):\n",
    "    group[\"target\"] = group[\"home_won\"].shift(-1)\n",
    "    return group\n",
    "\n",
    "games = games.groupby(\"home_team\", group_keys=False).apply(add_target)\n",
    "\n",
    "# Changing the 'won' column from True/False to 1's and 0's\n",
    "games['target'] = games['target']*1"
   ]
  },
  {
   "cell_type": "code",
   "execution_count": null,
   "metadata": {},
   "outputs": [],
   "source": [
    "# Separating the date column into 3 columns: year, month, day\n",
    "#games['date'] = pd.to_datetime(games['date'])\n",
    "\n",
    "#games['day'] = games['date'].dt.day\n",
    "#games['month'] = games['date'].dt.month\n",
    "#games['year'] = games['date'].dt.year\n",
    "#games = games.drop(\"date\",axis=1)\n",
    "\n",
    "# Creating dummy variables for categorical variables\n",
    "#games = pd.get_dummies(games, columns=['home_team', 'away_team'], drop_first=True)"
   ]
  },
  {
   "cell_type": "code",
   "execution_count": 11,
   "metadata": {},
   "outputs": [],
   "source": [
    "# Dropping heuristically unnecessary columns\n",
    "games.drop(['mp','home_fga','home_3pa','home_fta','home_+/-','home_pts',\n",
    "            'away_fga','away_3pa','away_fta','away_+/-','away_pts',],axis=1,inplace=True)\n",
    "\n",
    "# Dropping last round of games where target values are NaN\n",
    "games.dropna(inplace=True)"
   ]
  },
  {
   "cell_type": "markdown",
   "metadata": {},
   "source": [
    "## Model Building"
   ]
  },
  {
   "cell_type": "code",
   "execution_count": 12,
   "metadata": {},
   "outputs": [],
   "source": [
    "# Splitting test and train\n",
    "test = games.tail(280)\n",
    "train = games[~games.index.isin(test.index)]\n",
    "\n",
    "# Splitting X and y\n",
    "X_train = train.drop(['target','date','season','home_team','away_team'],axis=1)\n",
    "y_train = train['target'].astype('int')\n",
    "\n",
    "X_test = test.drop(['target','date','season','home_team','away_team'],axis=1)\n",
    "y_test = test['target'].astype('int')\n",
    "\n",
    "# Fitting a MinMaxScaler\n",
    "from sklearn.preprocessing import MinMaxScaler\n",
    "\n",
    "##scaler = MinMaxScaler()\n",
    "#X_train[X_train.columns] = scaler.fit_transform(X_train[X_train.columns])\n",
    "#X_test[X_test.columns] = scaler.fit_transform(X_test[X_test.columns])\n"
   ]
  },
  {
   "cell_type": "code",
   "execution_count": null,
   "metadata": {},
   "outputs": [],
   "source": [
    "df_rolling = games\n",
    "\n",
    "def find_team_averages(team):\n",
    "    rolling = team.rolling(10).mean()\n",
    "    return rolling\n",
    "\n",
    "df_rolling = df_rolling.groupby([\"home_team\"], group_keys=False).apply(find_team_averages)\n",
    "\n",
    "rolling_cols = [f\"{col}_10\" for col in df_rolling.columns]\n",
    "df_rolling.columns = rolling_cols\n",
    "games = pd.concat([games, df_rolling], axis=1)\n",
    "\n",
    "#model_builder(LogisticRegression(),\"Logistic Regression\")"
   ]
  },
  {
   "cell_type": "code",
   "execution_count": 13,
   "metadata": {},
   "outputs": [],
   "source": [
    "model_name = []\n",
    "model_accuracy = []\n",
    "\n",
    "def model_builder(model, name):\n",
    "    model.fit(X_train,y_train)\n",
    "    predictions = model.predict(X_test)\n",
    "\n",
    "    model_name.append(name)\n",
    "    model_accuracy.append(accuracy_score(y_test,predictions))\n",
    "\n",
    "    print(\"Confusion matrix:\")\n",
    "    print(confusion_matrix(y_test,predictions))\n",
    "    print(\"\\n\")\n",
    "\n",
    "    print(\"Classification report:\")\n",
    "    print(classification_report(y_test,predictions))\n",
    "\n",
    "    print(\"Accuracy score:\")\n",
    "    print(accuracy_score(y_test, predictions))"
   ]
  },
  {
   "cell_type": "code",
   "execution_count": 14,
   "metadata": {},
   "outputs": [
    {
     "name": "stdout",
     "output_type": "stream",
     "text": [
      "Confusion matrix:\n",
      "[[77 64]\n",
      " [53 86]]\n",
      "\n",
      "\n",
      "Classification report:\n",
      "              precision    recall  f1-score   support\n",
      "\n",
      "           0       0.59      0.55      0.57       141\n",
      "           1       0.57      0.62      0.60       139\n",
      "\n",
      "    accuracy                           0.58       280\n",
      "   macro avg       0.58      0.58      0.58       280\n",
      "weighted avg       0.58      0.58      0.58       280\n",
      "\n",
      "Accuracy score:\n",
      "0.5821428571428572\n"
     ]
    }
   ],
   "source": [
    "model_builder(LogisticRegression(),\"Logistic Regression\")"
   ]
  },
  {
   "cell_type": "code",
   "execution_count": 15,
   "metadata": {},
   "outputs": [
    {
     "name": "stdout",
     "output_type": "stream",
     "text": [
      "Confusion matrix:\n",
      "[[79 62]\n",
      " [58 81]]\n",
      "\n",
      "\n",
      "Classification report:\n",
      "              precision    recall  f1-score   support\n",
      "\n",
      "           0       0.58      0.56      0.57       141\n",
      "           1       0.57      0.58      0.57       139\n",
      "\n",
      "    accuracy                           0.57       280\n",
      "   macro avg       0.57      0.57      0.57       280\n",
      "weighted avg       0.57      0.57      0.57       280\n",
      "\n",
      "Accuracy score:\n",
      "0.5714285714285714\n"
     ]
    }
   ],
   "source": [
    "model_builder(GaussianNB(),\"Gaussian NB\")"
   ]
  },
  {
   "cell_type": "code",
   "execution_count": 16,
   "metadata": {},
   "outputs": [
    {
     "name": "stdout",
     "output_type": "stream",
     "text": [
      "Confusion matrix:\n",
      "[[66 75]\n",
      " [70 69]]\n",
      "\n",
      "\n",
      "Classification report:\n",
      "              precision    recall  f1-score   support\n",
      "\n",
      "           0       0.49      0.47      0.48       141\n",
      "           1       0.48      0.50      0.49       139\n",
      "\n",
      "    accuracy                           0.48       280\n",
      "   macro avg       0.48      0.48      0.48       280\n",
      "weighted avg       0.48      0.48      0.48       280\n",
      "\n",
      "Accuracy score:\n",
      "0.48214285714285715\n"
     ]
    }
   ],
   "source": [
    "model_builder(DecisionTreeClassifier(), \"Decision\")"
   ]
  }
 ],
 "metadata": {
  "kernelspec": {
   "display_name": "base",
   "language": "python",
   "name": "python3"
  },
  "language_info": {
   "codemirror_mode": {
    "name": "ipython",
    "version": 3
   },
   "file_extension": ".py",
   "mimetype": "text/x-python",
   "name": "python",
   "nbconvert_exporter": "python",
   "pygments_lexer": "ipython3",
   "version": "3.9.12"
  }
 },
 "nbformat": 4,
 "nbformat_minor": 2
}
