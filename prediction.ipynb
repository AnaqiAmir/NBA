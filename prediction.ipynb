{
 "cells": [
  {
   "cell_type": "markdown",
   "metadata": {},
   "source": [
    "# NBA Games Prediction\n",
    "Here is the best model setup I've found so far:\n",
    "- Latest games: February 9th\n",
    "- Columns added: `last_10_wins`,`day_of_week`,`month`\n",
    "- Dummy columns: `home_team`, `away_team`\n",
    "- Columns dropped:\n",
    "    - `mp`,`home_fga`,`home_3pa`,`home_fta`,`home_+/-`,`home_pts`,\n",
    "            `away_fga`,`away_3pa`,`away_fta`,`away_+/-`,`away_pts`, `season`\n",
    "- Model: Logistic Regression\n",
    "- Accuracy: 0.621429\n",
    "\n",
    "## Imports and Load Data"
   ]
  },
  {
   "cell_type": "code",
   "execution_count": null,
   "metadata": {},
   "outputs": [],
   "source": [
    "import warnings\n",
    "warnings.filterwarnings('ignore')\n",
    "\n",
    "import pandas as pd\n",
    "import numpy as np\n",
    "import seaborn as sns\n",
    "import matplotlib.pyplot as plt\n",
    "%matplotlib inline\n",
    "\n",
    "from itertools import chain # to unlist nested lists\n",
    "\n",
    "from sklearn.linear_model import LogisticRegression\n",
    "from sklearn.naive_bayes import GaussianNB\n",
    "from sklearn.tree import DecisionTreeClassifier\n",
    "#import xgboost as xgb\n",
    "from sklearn.svm import SVC\n",
    "from sklearn.metrics import confusion_matrix, classification_report, accuracy_score"
   ]
  },
  {
   "cell_type": "code",
   "execution_count": null,
   "metadata": {},
   "outputs": [],
   "source": [
    "games = pd.read_csv(\"nba_games_2024.csv\")\n",
    "games.drop('Unnamed: 0',axis=1,inplace=True)\n",
    "games.replace([np.inf, -np.inf], np.nan,inplace=True)"
   ]
  },
  {
   "cell_type": "markdown",
   "metadata": {},
   "source": [
    "## Data Processing"
   ]
  },
  {
   "cell_type": "code",
   "execution_count": null,
   "metadata": {},
   "outputs": [],
   "source": [
    "# # Defining basic statistics\n",
    "# basic_stats = ['home_fg%','home_3p%','home_ft%','home_trb','home_ast','home_stl','home_blk','home_tov']"
   ]
  },
  {
   "cell_type": "code",
   "execution_count": null,
   "metadata": {},
   "outputs": [],
   "source": [
    "# # Creating a stats_by_team dataframe that displays the average basic statistics of each team\n",
    "# stats_by_team = games.groupby('home_team')[basic_stats].mean().reset_index()\n",
    "\n",
    "# # Counting the number of games each team has won\n",
    "# stats_by_team['home_won'] = games[games['home_won']==True].groupby('home_team')['home_won'].count().reset_index()['home_won']\n",
    "\n",
    "# # Renaming columns to not have 'home_' in the beginning\n",
    "# stats_by_team.columns = stats_by_team.columns.str.lstrip('home_')\n",
    "\n",
    "# # Creating a ranking of all teams\n",
    "# stats_by_team['ranking'] = stats_by_team[['fg%','3p%','ft%','trb','ast','stl','blk','won']].sum(axis=1) - stats_by_team['tov']\n",
    "# stats_by_team = stats_by_team.sort_values(by='ranking',ascending=False).reset_index(drop=True)\n",
    "# stats_by_team.index += 1"
   ]
  },
  {
   "cell_type": "code",
   "execution_count": null,
   "metadata": {},
   "outputs": [],
   "source": [
    "# # Creating a ranking_difference column between the home team against the away team\n",
    "# def ranking_difference(df):\n",
    "#     overall = []\n",
    "#     home_overall = float(stats_by_team[stats_by_team['team']==df.home_team]['ranking'])\n",
    "#     away_overall = float(stats_by_team[stats_by_team['team']==df.away_team]['ranking'])\n",
    "#     overall.append(home_overall-away_overall)\n",
    "#     return overall\n",
    "\n",
    "# games['ranking_difference'] = games.apply(ranking_difference,axis=1)\n",
    "# games = games.explode('ranking_difference')\n",
    "# games['ranking_difference'] = games['ranking_difference'].astype(float)"
   ]
  },
  {
   "cell_type": "code",
   "execution_count": null,
   "metadata": {},
   "outputs": [],
   "source": [
    "# Creating a home_last_10_wins and away_last_10_wins columns\n",
    "def add_home_last_10_wins(group, n):\n",
    "    group[\"home_last_10_wins\"] = group['home_won'].shift(1).rolling(n-1, min_periods=1).sum()\n",
    "    return group\n",
    "\n",
    "def add_away_last_10_wins(group, n):\n",
    "    group[\"away_last_10_wins\"] = n - group['home_won'].shift(1).rolling(n-1, min_periods=1).sum()\n",
    "    return group\n",
    "\n",
    "games = games.groupby(\"home_team\", group_keys=False).apply(add_home_last_10_wins,n=10)\n",
    "games = games.groupby(\"away_team\", group_keys=False).apply(add_away_last_10_wins,n=10)"
   ]
  },
  {
   "cell_type": "code",
   "execution_count": null,
   "metadata": {},
   "outputs": [],
   "source": [
    "# # Creating columns for the average basic statistics of the last 5 games for each team in each game\n",
    "# def find_team_averages(team):\n",
    "#     rolling = team.drop('team',axis=1).rolling(5).mean()\n",
    "#     return rolling\n",
    "\n",
    "# # Making a list of basic stats of away teams\n",
    "# away_basic_stats = []\n",
    "# for stat in basic_stats:\n",
    "#     away_basic_stats.append(stat.replace('home_','away_'))\n",
    "\n",
    "# # df_rolling_ are dataframes to store the rolling averages\n",
    "# df_rolling_home = games[basic_stats + ['home_team']]\n",
    "# df_rolling_away = games[basic_stats + ['away_team']]\n",
    "\n",
    "# # Renaming for streamline\n",
    "# df_rolling_home.rename(columns={'home_team':'team'},inplace=True)\n",
    "# df_rolling_away.rename(columns={'away_team':'team'},inplace=True)\n",
    "\n",
    "# # Running the function\n",
    "# df_rolling_home = df_rolling_home.groupby([\"team\"], group_keys=False).apply(find_team_averages)\n",
    "# df_rolling_away = df_rolling_away.groupby([\"team\"], group_keys=False).apply(find_team_averages)\n",
    "\n",
    "# # Concatenating to the games dataframe\n",
    "# df_rolling_home.columns = [f\"{col}_10\" for col in df_rolling_home.columns]\n",
    "# df_rolling_away.columns = [f\"{col}_10\" for col in df_rolling_away.columns]\n",
    "# games = pd.concat([games, df_rolling_home, df_rolling_away], axis=1)"
   ]
  },
  {
   "cell_type": "code",
   "execution_count": null,
   "metadata": {},
   "outputs": [],
   "source": [
    "# Separating the date column into 2 columns: month, day\n",
    "games['date'] = pd.to_datetime(games['date'])\n",
    "\n",
    "games['day_of_week'] = games['date'].dt.dayofweek\n",
    "games['month'] = games['date'].dt.month\n",
    "games = games.drop(\"date\",axis=1)"
   ]
  },
  {
   "cell_type": "code",
   "execution_count": null,
   "metadata": {},
   "outputs": [],
   "source": [
    "# Add target variable which is the result of the next game for the home team\n",
    "def add_target(group):\n",
    "    group[\"target\"] = group[\"home_won\"].shift(-1)\n",
    "    return group\n",
    "\n",
    "games = games.groupby(\"home_team\", group_keys=False).apply(add_target)\n",
    "\n",
    "# Changing the 'won' column from True/False to 1's and 0's\n",
    "games['target'] = games['target']*1"
   ]
  },
  {
   "cell_type": "code",
   "execution_count": null,
   "metadata": {},
   "outputs": [],
   "source": [
    "# Creating dummy variables for categorical variables\n",
    "games = pd.get_dummies(games, columns=['home_team', 'away_team'], drop_first=True)"
   ]
  },
  {
   "cell_type": "code",
   "execution_count": null,
   "metadata": {},
   "outputs": [],
   "source": [
    "# Dropping heuristically unnecessary columns\n",
    "games.drop(['mp','home_fga','home_3pa','home_fta','home_+/-','home_pts',\n",
    "            'away_fga','away_3pa','away_fta','away_+/-','away_pts'],axis=1,inplace=True)\n",
    "\n",
    "# Dropping last round of games where target values are NaN\n",
    "games.dropna(inplace=True)"
   ]
  },
  {
   "cell_type": "markdown",
   "metadata": {},
   "source": [
    "## Model Building"
   ]
  },
  {
   "cell_type": "code",
   "execution_count": null,
   "metadata": {},
   "outputs": [],
   "source": [
    "# Splitting test and train\n",
    "test = games.tail(280)\n",
    "train = games[~games.index.isin(test.index)]\n",
    "\n",
    "# Splitting X and y\n",
    "X_train = train.drop(['season','target'],axis=1)\n",
    "y_train = train['target'].astype('int')\n",
    "\n",
    "X_test = test.drop(['season','target'],axis=1)\n",
    "y_test = test['target'].astype('int')\n"
   ]
  },
  {
   "cell_type": "code",
   "execution_count": null,
   "metadata": {},
   "outputs": [],
   "source": [
    "# Function to store different model names and their respective accuracies\n",
    "model_name = []\n",
    "model_accuracy = []\n",
    "\n",
    "def model_builder(model, name):\n",
    "    model.fit(X_train,y_train)\n",
    "    predictions = model.predict(X_test)\n",
    "\n",
    "    model_name.append(name)\n",
    "    model_accuracy.append(accuracy_score(y_test,predictions))"
   ]
  },
  {
   "cell_type": "code",
   "execution_count": null,
   "metadata": {},
   "outputs": [],
   "source": [
    "# Running different models\n",
    "model_builder(LogisticRegression(),\"Logistic Regression\")\n",
    "model_builder(GaussianNB(),\"Gaussian NB\")\n",
    "model_builder(DecisionTreeClassifier(), \"Decision Tree\")\n",
    "#model_builder(xgb.XGBClassifier(),\"XGB\")"
   ]
  },
  {
   "cell_type": "code",
   "execution_count": null,
   "metadata": {},
   "outputs": [],
   "source": [
    "# Display model results\n",
    "model_results = pd.DataFrame({'Model': model_name, 'Accuracy': model_accuracy})\n",
    "model_results"
   ]
  },
  {
   "cell_type": "markdown",
   "metadata": {},
   "source": [
    "# Testing out on new games"
   ]
  },
  {
   "cell_type": "code",
   "execution_count": null,
   "metadata": {},
   "outputs": [],
   "source": [
    "X_train = train.drop(['season','target','date'],axis=1)\n",
    "y_train = train['target'].astype('int')\n",
    "\n",
    "model = LogisticRegression()\n",
    "model.fit(X_train,y_train)\n",
    "model.predict(test.drop(['season','target','date'],axis=1))"
   ]
  }
 ],
 "metadata": {
  "kernelspec": {
   "display_name": "base",
   "language": "python",
   "name": "python3"
  },
  "language_info": {
   "codemirror_mode": {
    "name": "ipython",
    "version": 3
   },
   "file_extension": ".py",
   "mimetype": "text/x-python",
   "name": "python",
   "nbconvert_exporter": "python",
   "pygments_lexer": "ipython3",
   "version": "3.9.12"
  }
 },
 "nbformat": 4,
 "nbformat_minor": 2
}
