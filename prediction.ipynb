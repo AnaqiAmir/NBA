{
 "cells": [
  {
   "cell_type": "markdown",
   "metadata": {},
   "source": [
    "# NBA Games Prediction\n",
    "## Imports and Load Data"
   ]
  },
  {
   "cell_type": "code",
   "execution_count": null,
   "metadata": {},
   "outputs": [],
   "source": [
    "import warnings\n",
    "warnings.filterwarnings('ignore')\n",
    "\n",
    "import pandas as pd\n",
    "import numpy as np\n",
    "import seaborn as sns\n",
    "import matplotlib.pyplot as plt\n",
    "%matplotlib inline\n",
    "\n",
    "from itertools import chain # to unlist nested lists\n",
    "\n",
    "from sklearn.linear_model import LogisticRegression\n",
    "from sklearn.naive_bayes import GaussianNB\n",
    "from sklearn.tree import DecisionTreeClassifier\n",
    "from sklearn.svm import SVC\n",
    "from sklearn.metrics import confusion_matrix, classification_report, accuracy_score"
   ]
  },
  {
   "cell_type": "code",
   "execution_count": null,
   "metadata": {},
   "outputs": [],
   "source": [
    "games = pd.read_csv(\"nba_games_2024.csv\")\n",
    "games.replace([np.inf, -np.inf], np.nan,inplace=True)"
   ]
  },
  {
   "cell_type": "markdown",
   "metadata": {},
   "source": [
    "## Data Processing"
   ]
  },
  {
   "cell_type": "code",
   "execution_count": null,
   "metadata": {},
   "outputs": [],
   "source": [
    "# Defining the basic statistics\n",
    "basic_stats = ['home_fg%','home_3p%','home_ft%','home_trb','home_ast','home_stl','home_blk','home_tov']\n",
    "\n",
    "# Creating a stats_by_team dataframe that displays the average basic statistics of each team\n",
    "stats_by_team = games.groupby('home_team')[basic_stats].mean().reset_index()\n",
    "\n",
    "# Counting the number of games each team has won\n",
    "stats_by_team['home_won'] = games[games['home_won']==True].groupby('home_team')['home_won'].count().reset_index()['home_won']\n",
    "\n",
    "# Renaming columns to not have 'home_' in the beginning\n",
    "for col in stats_by_team.columns:\n",
    "    replacement = col.replace('home_','')\n",
    "    stats_by_team.rename(columns={col: replacement},inplace=True)\n",
    "\n",
    "# Creating a ranking of all teams\n",
    "stats_by_team['ranking'] = stats_by_team[['fg%','3p%','ft%','trb','ast','stl','blk','won']].sum(axis=1) - stats_by_team['tov']\n",
    "team_overall = stats_by_team[['team','ranking']].sort_values(by='ranking',ascending=False).reset_index(drop=True)\n",
    "team_overall.index += 1"
   ]
  },
  {
   "cell_type": "code",
   "execution_count": null,
   "metadata": {},
   "outputs": [],
   "source": [
    "# Creating a ranking_difference column between the home team against the away team\n",
    "def overall_difference(df):\n",
    "    overall = []\n",
    "    home_overall = float(team_overall[team_overall['team']==df.home_team]['ranking'])\n",
    "    away_overall = float(team_overall[team_overall['team']==df.away_team]['ranking'])\n",
    "    overall.append(home_overall-away_overall)\n",
    "    return overall\n",
    "\n",
    "games['ranking_difference'] = games.apply(overall_difference,axis=1)\n",
    "games = games.explode('ranking_difference')"
   ]
  },
  {
   "cell_type": "code",
   "execution_count": null,
   "metadata": {},
   "outputs": [],
   "source": [
    "# Creating a home_last_10_wins and away_last_10_wins columns\n",
    "def add_home_last_10_wins(group):\n",
    "    total = group[\"home_won\"].shift(1) + group[\"home_won\"].shift(2) +\\\n",
    "            group[\"home_won\"].shift(3) + group[\"home_won\"].shift(4) +\\\n",
    "            group[\"home_won\"].shift(5) + group[\"home_won\"].shift(6) +\\\n",
    "            group[\"home_won\"].shift(7) + group[\"home_won\"].shift(8) +\\\n",
    "            group[\"home_won\"].shift(9) + group[\"home_won\"].shift(10)\n",
    "    group[\"home_last_10_wins\"] = total\n",
    "\n",
    "    return group\n",
    "\n",
    "def add_away_last_10_wins(group):\n",
    "    total = group[\"home_won\"].shift(1) + group[\"home_won\"].shift(2) +\\\n",
    "            group[\"home_won\"].shift(3) + group[\"home_won\"].shift(4) +\\\n",
    "            group[\"home_won\"].shift(5) + group[\"home_won\"].shift(6) +\\\n",
    "            group[\"home_won\"].shift(7) + group[\"home_won\"].shift(8) +\\\n",
    "            group[\"home_won\"].shift(9) + group[\"home_won\"].shift(10)\n",
    "    group[\"away_last_10_wins\"] = 10 - total\n",
    "\n",
    "    return group\n",
    "\n",
    "games = games.groupby(\"home_team\", group_keys=False).apply(add_home_last_10_wins)\n",
    "games = games.groupby(\"away_team\", group_keys=False).apply(add_away_last_10_wins)"
   ]
  },
  {
   "cell_type": "code",
   "execution_count": null,
   "metadata": {},
   "outputs": [],
   "source": [
    "df_rolling = games\n",
    "\n",
    "def find_team_averages(team):\n",
    "    rolling = team.rolling(10).mean()\n",
    "    return rolling\n",
    "\n",
    "df_rolling = df_rolling.groupby([\"home_team\"], group_keys=False).apply(find_team_averages)\n",
    "\n",
    "rolling_cols = [f\"{col}_10\" for col in df_rolling.columns]\n",
    "df_rolling.columns = rolling_cols\n",
    "games = pd.concat([games, df_rolling], axis=1)"
   ]
  },
  {
   "cell_type": "code",
   "execution_count": null,
   "metadata": {},
   "outputs": [],
   "source": [
    "# Add target variable which is the result of the next game for the home team\n",
    "def add_target(group):\n",
    "    group[\"target\"] = group[\"home_won\"].shift(-1)\n",
    "    return group\n",
    "\n",
    "games = games.groupby(\"home_team\", group_keys=False).apply(add_target)\n",
    "\n",
    "# Changing the 'won' column from True/False to 1's and 0's\n",
    "games['target'] = games['target']*1"
   ]
  },
  {
   "cell_type": "code",
   "execution_count": null,
   "metadata": {},
   "outputs": [],
   "source": [
    "# Separating the date column into 3 columns: year, month, day\n",
    "#games['date'] = pd.to_datetime(games['date'])\n",
    "\n",
    "#games['day'] = games['date'].dt.day\n",
    "#games['month'] = games['date'].dt.month\n",
    "#games['year'] = games['date'].dt.year\n",
    "#games = games.drop(\"date\",axis=1)\n",
    "\n",
    "# Creating dummy variables for categorical variables\n",
    "games = pd.get_dummies(games, columns=['home_team', 'away_team'], drop_first=True)"
   ]
  },
  {
   "cell_type": "code",
   "execution_count": null,
   "metadata": {},
   "outputs": [],
   "source": [
    "# Dropping heuristically unnecessary columns\n",
    "games.drop(['mp','home_fga','home_3pa','home_fta','home_+/-','home_pts',\n",
    "            'away_fga','away_3pa','away_fta','away_+/-','away_pts',],axis=1,inplace=True)\n",
    "\n",
    "# Dropping last round of games where target values are NaN\n",
    "games.dropna(inplace=True)"
   ]
  },
  {
   "cell_type": "markdown",
   "metadata": {},
   "source": [
    "## Model Building"
   ]
  },
  {
   "cell_type": "code",
   "execution_count": null,
   "metadata": {},
   "outputs": [],
   "source": [
    "# Splitting test and train\n",
    "test = games.tail(280)\n",
    "train = games[~games.index.isin(test.index)]\n",
    "\n",
    "# Splitting X and y\n",
    "X_train = train.drop(['target','date','season'],axis=1)\n",
    "y_train = train['target'].astype('int')\n",
    "\n",
    "X_test = test.drop(['target','date','season'],axis=1)\n",
    "y_test = test['target'].astype('int')\n",
    "\n",
    "# Fitting a MinMaxScaler\n",
    "from sklearn.preprocessing import MinMaxScaler\n",
    "\n",
    "#scaler = MinMaxScaler()\n",
    "#X_train[X_train.columns] = scaler.fit_transform(X_train[X_train.columns])\n",
    "#X_test[X_test.columns] = scaler.fit_transform(X_test[X_test.columns])\n"
   ]
  },
  {
   "cell_type": "code",
   "execution_count": null,
   "metadata": {},
   "outputs": [],
   "source": [
    "# Function to store different model names and their respective accuracies\n",
    "\n",
    "model_name = []\n",
    "model_accuracy = []\n",
    "\n",
    "def model_builder(model, name):\n",
    "    model.fit(X_train,y_train)\n",
    "    predictions = model.predict(X_test)\n",
    "\n",
    "    model_name.append(name)\n",
    "    model_accuracy.append(accuracy_score(y_test,predictions))\n",
    "\n",
    "    # Printing confusion matrix, classification report, and accuracy score\n",
    "    #print(\"Confusion matrix:\")\n",
    "    #print(confusion_matrix(y_test,predictions))\n",
    "    #print(\"\\n\")\n",
    "\n",
    "    #print(\"Classification report:\")\n",
    "    #print(classification_report(y_test,predictions))\n",
    "\n",
    "    #print(\"Accuracy score:\")\n",
    "    #print(accuracy_score(y_test, predictions))"
   ]
  },
  {
   "cell_type": "code",
   "execution_count": null,
   "metadata": {},
   "outputs": [],
   "source": [
    "# Running different models\n",
    "model_builder(LogisticRegression(),\"Logistic Regression\")\n",
    "model_builder(GaussianNB(),\"Gaussian NB\")\n",
    "model_builder(DecisionTreeClassifier(), \"Decision Tree\")"
   ]
  },
  {
   "cell_type": "code",
   "execution_count": null,
   "metadata": {},
   "outputs": [],
   "source": [
    "# Display model results\n",
    "model_results = pd.DataFrame({'Model': model_name, 'Accuracy': model_accuracy})\n",
    "model_results"
   ]
  }
 ],
 "metadata": {
  "kernelspec": {
   "display_name": "base",
   "language": "python",
   "name": "python3"
  },
  "language_info": {
   "codemirror_mode": {
    "name": "ipython",
    "version": 3
   },
   "file_extension": ".py",
   "mimetype": "text/x-python",
   "name": "python",
   "nbconvert_exporter": "python",
   "pygments_lexer": "ipython3",
   "version": "3.9.12"
  }
 },
 "nbformat": 4,
 "nbformat_minor": 2
}
